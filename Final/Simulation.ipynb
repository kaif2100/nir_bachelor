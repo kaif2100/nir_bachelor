{
 "cells": [
  {
   "cell_type": "code",
   "execution_count": 1,
   "metadata": {
    "jupyter": {
     "source_hidden": true
    },
    "tags": []
   },
   "outputs": [],
   "source": [
    "import numpy as np\n",
    "from scipy.integrate import solve_ivp\n",
    "from scipy.interpolate import interp1d\n",
    "from scipy.optimize import root_scalar\n",
    "from scipy.optimize import RootResults\n",
    "import constants\n",
    "from conversions import Kepler2Cartesian\n",
    "from Kepler import KeplerSolver\n",
    "import warnings\n",
    "import ephaccess as ephem\n",
    "import julian\n",
    "import datetime\n",
    "import matplotlib.pyplot as plt\n",
    "import matplotlib\n",
    "import tqdm\n",
    "import importlib"
   ]
  },
  {
   "cell_type": "code",
   "execution_count": 2,
   "metadata": {
    "jupyter": {
     "source_hidden": true
    },
    "tags": []
   },
   "outputs": [],
   "source": [
    "def _Newton(func, x0, ftol, boundaries = None, maxit = 10000):\n",
    "    x = x0 + 0.\n",
    "    it = 0\n",
    "    flag = -2\n",
    "    desc = ''\n",
    "    while True:\n",
    "        it += 1\n",
    "        if it >= maxit:\n",
    "            break\n",
    "        if boundaries:\n",
    "            if not boundaries[0] <= x <= boundaries[1]:\n",
    "                break\n",
    "                flag = -3\n",
    "        \n",
    "        f, df = func(x)\n",
    "        if abs(f) < ftol:\n",
    "            flag = 0\n",
    "            break\n",
    "\n",
    "        x = x - f / df\n",
    "    return RootResults(x, it, it, flag)\n",
    "    \n",
    "def _calc_moon(jd0, t, eph):\n",
    "    # jd0 - julian date, t - seconds, f - opened ephem file\n",
    "    jd = jd0 + t / 86400.\n",
    "    jt_int = jd // 1\n",
    "    jt_frac = jd % 1\n",
    "\n",
    "    PV = eph.calculate_rectangular(eph.object_by_name(\"Moon\"), eph.object_by_name(\"Earth\"), jt_int, jt_frac)\n",
    "    PV = np.array(PV)\n",
    "    rL = PV[0] # units are set before (calc_fly_in)\n",
    "    VL = PV[1]\n",
    "    \n",
    "    return rL, VL\n",
    "    \n",
    "def calc_fly_in(xref, jd, t1, t2, ftol, r_influence = 66194000, eph_file = \"epm2017.bsp\", maxit = 10000, explicit = True, already_boundary = False):\n",
    "    \"\"\"\n",
    "    Input:\n",
    "    xref - function, that takes time in seconds and returns phase(!) vector of the spacecraft\n",
    "    jd - date of launch in the juliandate format\n",
    "    t1 - left time boundary (in seconds counting from date 00:00:00)\n",
    "    t2 - right time boundary (in seconds counting from date 00:00:00)\\\n",
    "    r_influecne - radius of sphere of influence in meters, 66 194 000 by default\n",
    "    ephem_file - ephemeris file name, \"epm2017.bsp\" by default\n",
    "    ftol - accuracy (r_influence - ftol < |r_rel| < r_influence + ftol)\n",
    "    maxiter - number of iterations allowed to find in_time\n",
    "    \n",
    "    Time boundaries in xref must correspond date, t1 and t2\n",
    "    \n",
    "    Output:\n",
    "    in_time - time at which the spacecraft flies into the region of influence, seconds\n",
    "    r_rel - radius-vector of the spacecraft relative to the Moon at in_time, m\n",
    "    V_rel - velocity of the spacecraft relative to the Moon at in_time, m/s\n",
    "    rL - radius-vector of the Moon at in_time, m\n",
    "    VL - velocity of the Moon at in_time, m/s\n",
    "    None, None, None, None, None - if spacecraft doesn't fly into the region of influence at the time interval given \n",
    "    \n",
    "    TODO:\n",
    "    different reference systems\n",
    "    \"\"\"\n",
    "    # |rref|(t) - r_influence = 0 may have more than 1 zero\n",
    "    \n",
    "    eph = ephem.EphAccess()\n",
    "    eph.load_file(eph_file)\n",
    "    eph.set_distance_units(ephem.EPH_KM)\n",
    "    eph.set_time_units(ephem.EPH_SEC)\n",
    "    \n",
    "    if already_boundary:\n",
    "        in_time = t2\n",
    "        \n",
    "        buf = xref(in_time)\n",
    "        r = buf[:3]\n",
    "        V = buf[3:]\n",
    "        \n",
    "        rL, VL = _calc_moon(jd, in_time, eph)\n",
    "        \n",
    "        r_rel = r - rL\n",
    "        V_rel = V - VL\n",
    "        \n",
    "        return in_time, r_rel, V_rel, rL, VL\n",
    "    \n",
    "    def eq_2_solve(t):\n",
    "        # first return is function value whose root we want to find\n",
    "        # second return is it's derivative\n",
    "        buf = xref(t)\n",
    "        r = buf[:3]\n",
    "        V = buf[3:]\n",
    "        \n",
    "        rL, VL = _calc_moon(jd, t, eph)\n",
    "        \n",
    "        buf = np.linalg.norm(r - rL)\n",
    "        res1 = buf - r_influence\n",
    "        res2 = np.dot(r - rL, V - VL) / buf\n",
    "        return res1, res2        \n",
    "    \n",
    "    res = _Newton(eq_2_solve, x0 = t1, ftol = ftol, maxit = maxit, boundaries = (t1, t2))\n",
    "    if explicit:\n",
    "        print(\"Iterations done:\", res.iterations)\n",
    "    if res.converged:\n",
    "        in_time = res.root\n",
    "        \n",
    "        buf = xref(in_time)\n",
    "        r = buf[:3]\n",
    "        V = buf[3:]\n",
    "        \n",
    "        rL, VL = _calc_moon(jd, in_time, eph)\n",
    "        \n",
    "        r_rel = r - rL\n",
    "        V_rel = V - VL        \n",
    "    else:\n",
    "        warnings.warn(\"No root for in_time was found\", RuntimeWarning)\n",
    "        in_time = None\n",
    "        r_rel = None\n",
    "        V_rel = None\n",
    "        rL = None\n",
    "        VL = None\n",
    "    \n",
    "    del eph\n",
    "    return in_time, r_rel, V_rel, rL, VL"
   ]
  },
  {
   "cell_type": "code",
   "execution_count": 3,
   "metadata": {
    "jupyter": {
     "source_hidden": true
    },
    "tags": []
   },
   "outputs": [],
   "source": [
    "def precession_matrix(jd):\n",
    "    \"\"\"\n",
    "    This function calculates precession matrix for conversions between reference systems\n",
    "    x_old(in ICRF(J2000)) = P @ x_new(in ICRF(jd))\n",
    "    \n",
    "    Input:\n",
    "    jd - julian date\n",
    "    \n",
    "    Output:\n",
    "    P - np.array 3x3 (float)\n",
    "    \"\"\"\n",
    "    t = (jd - 2451545.0)/36525.0\n",
    "    t2 = t**2\n",
    "    t3 = t**3\n",
    "    sec2rad = np.pi / 180 / 3600\n",
    "    \n",
    "    z = -(2306.2181 * t + 1.09468 * t2 + 0.018203 * t3) * sec2rad\n",
    "    theta = (2004.3109 * t + 0.42665 * t2 - 0.041833 * t3) * sec2rad\n",
    "    dzeta = -(2306.2181 * t + 0.30188 * t2 + 0.017998 * t3) * sec2rad\n",
    "    \n",
    "    M1 = np.array([[np.cos(z), -np.sin(z), 0], [np.sin(z), np.cos(z), 0], [0, 0, 1.]])\n",
    "    M2 = np.array([[np.cos(theta), 0, np.sin(theta)], [0, 1., 0], [-np.sin(theta), 0, np.cos(theta)]])\n",
    "    M3 = np.array([[np.cos(dzeta), -np.sin(dzeta), 0], [np.sin(dzeta), np.cos(dzeta), 0], [0, 0, 1.]])\n",
    "    \n",
    "    return M1 @ M2 @ M3\n",
    "\n",
    "def f_name(jt_int, jt_frac, r, eph, target, mu, center = \"Earth\"):\n",
    "    \"\"\"\n",
    "    r - radius vector of the sc relative to the Earth in KM\n",
    "    \"\"\"\n",
    "    PV = eph.calculate_rectangular(eph.object_by_name(target), eph.object_by_name(center), jt_int, jt_frac)\n",
    "    PV = np.array(PV)\n",
    "    \n",
    "    rN = PV[0, :] # km\n",
    "    if target != center:\n",
    "        res = mu * ((rN - r) / np.linalg.norm(rN - r)**3  - rN / np.linalg.norm(rN)**3) # km / s^2\n",
    "    else:\n",
    "        res = -mu * r / np.linalg.norm(r)**3\n",
    "        \n",
    "    return res\n",
    "\n",
    "def f_2b(jd0, t, x, eph, name = \"Earth\", mu = constants.muEar, center = \"Earth\"):\n",
    "    \"\"\"\n",
    "    t - time (in seconds) since jd0 (so the full julian date is jd0 + t / (24 * 60 * 60))\n",
    "    \"\"\"\n",
    "    res = np.zeros((6))\n",
    "    \n",
    "    r = x[:3]\n",
    "    \n",
    "    jd = jd0 + t / 86400.\n",
    "    jt_int = jd // 1\n",
    "    jt_frac = jd % 1\n",
    "\n",
    "    res[3:] += f_name(jt_int, jt_frac, r, eph, name, mu, center)\n",
    "        \n",
    "    res[:3] = x[3:]\n",
    "\n",
    "    return res\n",
    "\n",
    "def f_full(jd0, t, x, eph):\n",
    "    \"\"\"\n",
    "    t - time (in seconds) since jd0 (so the full julian date is jd0 + t / (24 * 60 * 60))\n",
    "    \"\"\"\n",
    "    names_mus = {\"Sun\": constants.muSun, \"Mercury\": constants.muMer, \"Venus\": constants.muVen,\n",
    "                 \"Earth\": constants.muEar, \"Moon\": constants.muMoo, \"Mars_BC\": constants.muMar,\n",
    "                 \"Jupiter_BC\": constants.muJup, \"Saturn_BC\": constants.muSat, \"Uranus_BC\": constants.muUra, \n",
    "                 \"Neptune_BC\": constants.muNep, \"Pluto_BC\": constants.muPlu} # km^3 / s^2\n",
    "    res = np.zeros((6))\n",
    "    \n",
    "    r = x[:3]\n",
    "    \n",
    "    jd = jd0 + t / 86400.\n",
    "    jt_int = jd // 1\n",
    "    jt_frac = jd % 1\n",
    "\n",
    "    for n, m in names_mus.items():\n",
    "        res[3:] += f_name(jt_int, jt_frac, r, eph, n, m)\n",
    "        \n",
    "    res[:3] = x[3:]\n",
    "\n",
    "    return res\n",
    "\n",
    "def get_xref_from_x0(date, t1, t2, x0, dt_eval = 10, tolerance = 1e-10, eph_file = \"epm2017.bsp\"):\n",
    "    \"\"\"\n",
    "    x0 in ECI(JD2000)\n",
    "    \"\"\"\n",
    "    date = datetime.datetime(int(date[-4:]), int(date[3:5]), int(date[:2]))\n",
    "    jd0 = julian.to_jd(date) # midnight!\n",
    "\n",
    "    x0 = np.array(x0)\n",
    "\n",
    "    N = int(np.ceil(np.abs(t2 - t1) // dt_eval))\n",
    "    t_eval = np.linspace(t1, t2, N)\n",
    "    \n",
    "    eph = ephem.EphAccess()\n",
    "    eph.load_file(eph_file)\n",
    "    eph.set_distance_units(ephem.EPH_KM)\n",
    "    eph.set_time_units(ephem.EPH_SEC)\n",
    "    \n",
    "    res = solve_ivp(lambda t, x: f_full(jd0, t, x, eph), (t1, t2), x0, t_eval = t_eval, rtol = tolerance, atol = tolerance)\n",
    "#     res = solve_ivp(lambda t, x: f_2b(jd0, t, x, eph, name = \"Moon\", mu = constants.muMoo, center= \"Moon\"), (t1, t2), x0, t_eval = t_eval, rtol = tolerance, atol = tolerance)\n",
    "    if res.success:\n",
    "        res = res.y\n",
    "    else:\n",
    "        warnings.warn(f\"IntegrationError: {res.message}\", RuntimeWarning)\n",
    "    x_ref = interp1d(t_eval, res, kind = 'cubic') # spline interpolation\n",
    "    return x_ref\n",
    "\n",
    "def get_xref(date, t1, t2, i, W, w, e, p, v0 = 0, dt_eval = 10, tolerance = 1e-10, eph_file = \"epm2017.bsp\", um = 1e-3):\n",
    "    date = datetime.datetime(int(date[-4:]), int(date[3:5]), int(date[:2]))\n",
    "    jd0 = julian.to_jd(date) # midnight!\n",
    "\n",
    "    x0 = Kepler2Cartesian(i, W, w, e, p, v0) * um # um - meters in units; v = 0 -> r(0) = rp; in ECI(date)!!\n",
    "    P = precession_matrix(jd0)\n",
    "#     x0[:3] = P @ x0[:3] # now it's in ECI(J2000)\n",
    "#     x0[3:] = P @ x0[3:] # now it's in ECI(J2000)\n",
    "    # CHECK P.T!!!! The variant in diploma is below\n",
    "    x0[:3] = P.T @ x0[:3] # now it's in ECI(J2000)\n",
    "    x0[3:] = P.T @ x0[3:] # now it's in ECI(J2000)\n",
    "\n",
    "    N = int(np.ceil(np.abs(t2 - t1) // dt_eval))\n",
    "    t_eval = np.linspace(t1, t2, N)\n",
    "\n",
    "    eph = ephem.EphAccess()\n",
    "    eph.load_file(eph_file)\n",
    "    eph.set_distance_units(ephem.EPH_KM)\n",
    "    eph.set_time_units(ephem.EPH_SEC)\n",
    "    \n",
    "    res = solve_ivp(lambda t, x: f_full(jd0, t, x, eph), (t1, t2), x0, t_eval = t_eval, rtol = tolerance, atol = tolerance)\n",
    "#     res = solve_ivp(lambda t, x: f_2b(jd0, t, x, eph, name = \"Moon\", mu = constants.muMoo, center= \"Moon\"), (t1, t2), x0, t_eval = t_eval, rtol = tolerance, atol = tolerance)\n",
    "    if res.success:\n",
    "        res = res.y\n",
    "    else:\n",
    "        warnings.warn(f\"IntegrationError: {res.message}\", RuntimeWarning)\n",
    "    x_ref = interp1d(t_eval, res, kind = 'cubic') # spline interpolation\n",
    "    return x_ref"
   ]
  },
  {
   "cell_type": "markdown",
   "metadata": {
    "tags": []
   },
   "source": [
    "## One trajectory in full model"
   ]
  },
  {
   "cell_type": "code",
   "execution_count": 4,
   "metadata": {
    "jupyter": {
     "source_hidden": true
    },
    "tags": []
   },
   "outputs": [],
   "source": [
    "r_influence = 66194\n",
    "\n",
    "# Orbit parameters:\n",
    "inc = 51.8 / 180 * np.pi\n",
    "W = 18.1475 / 180 * np.pi\n",
    "w = 0.3893 / 180 * np.pi\n",
    "\n",
    "hp = 200e3\n",
    "rp = constants.RE + hp # before impulse\n",
    "Vp0 = np.sqrt(constants.muE / rp)\n",
    "pump = 3130\n",
    "Vp1 = Vp0 + pump # after impulse\n",
    "a = 1 / (2 / rp - Vp1**2 / constants.muE)\n",
    "e = 1 - rp / a\n",
    "p = a * (1 - e**2)\n",
    "\n",
    "date = '01.10.2021'\n",
    "integration_time = 200 * 60 * 60\n",
    "t1 = 12 * 60 * 60 # noon\n",
    "t2 = t1 + integration_time\n",
    "t_sep = 20 * 60\n",
    "jd0 = julian.to_jd(datetime.datetime(int(date[-4:]), int(date[3:5]), int(date[:2]))) # midnight!"
   ]
  },
  {
   "cell_type": "code",
   "execution_count": 5,
   "metadata": {
    "jupyter": {
     "source_hidden": true
    },
    "tags": []
   },
   "outputs": [
    {
     "name": "stdout",
     "output_type": "stream",
     "text": [
      "Iterations done: 5\n",
      "Time to reash Lunar sphere of influence: 107.512 hours\n"
     ]
    }
   ],
   "source": [
    "x_ref = get_xref(date, t1, t2, inc, W, w, e, p, dt_eval = 50, tolerance = 1e-10)\n",
    "\n",
    "in_time, r_rel, V_rel, rL, VL = calc_fly_in(x_ref, jd0, t1, t2, ftol = 200, maxit = 15000, r_influence = r_influence) # the fly-in time found!\n",
    "print(f\"Time to reash Lunar sphere of influence: {(in_time-t1)/3600:0.3f} hours\")"
   ]
  },
  {
   "cell_type": "markdown",
   "metadata": {
    "tags": []
   },
   "source": [
    "## Ansamble of trajectories"
   ]
  },
  {
   "cell_type": "markdown",
   "metadata": {},
   "source": [
    "### Errors"
   ]
  },
  {
   "cell_type": "code",
   "execution_count": 6,
   "metadata": {
    "jupyter": {
     "source_hidden": true
    },
    "tags": []
   },
   "outputs": [
    {
     "name": "stderr",
     "output_type": "stream",
     "text": [
      "100%|██████████████████████████████████████████████████████████████████████████████| 1000/1000 [05:25<00:00,  3.07it/s]\n"
     ]
    }
   ],
   "source": [
    "N_err = 1000\n",
    "#N_err = 100\n",
    "\n",
    "elements_mean = np.array([inc, W, w, e, p, a / 1e3])\n",
    "elements_std = np.array([0.030 / 180 * np.pi, 0.2 / 180 * np.pi, 0.2 / 180 * np.pi, 0.00030, 0., 30.])\n",
    "# it's more convinient to calculate p separately\n",
    "\n",
    "seed = 42\n",
    "np.random.seed(seed)\n",
    "\n",
    "elements = np.random.normal(elements_mean, elements_std, (N_err, 6))\n",
    "elements = elements.T\n",
    "elements[4, :] = elements[5, :] * (1 - elements[3, :]**2) * 1e3 # p in meters\n",
    "\n",
    "t2_corr = in_time + 5 * 60 * 60 # time2 corrected, not second correction!\n",
    "\n",
    "trajectories_err = []\n",
    "for j in tqdm.tqdm(range(N_err)):\n",
    "    vi, Ei = KeplerSolver(a, e, t1 + t_sep, epoch = t1)\n",
    "    trajectories_err.append(get_xref(date, t1 + t_sep, t2_corr, *elements[:5, j], v0 = vi, dt_eval = 50, tolerance = 1e-10))"
   ]
  },
  {
   "cell_type": "markdown",
   "metadata": {},
   "source": [
    "### Corrections"
   ]
  },
  {
   "cell_type": "code",
   "execution_count": 7,
   "metadata": {
    "jupyter": {
     "source_hidden": true
    },
    "tags": []
   },
   "outputs": [],
   "source": [
    "N_corr = 100\n",
    "n = 10\n",
    "\n",
    "t_corr_plot = t1 + 10 * 60 * 60\n",
    "dV = 10e-3\n",
    "\n",
    "x0_0 = x_ref(t_corr_plot)\n",
    "ang1 = np.linspace(0, np.pi, n)\n",
    "ang2 = np.linspace(0, 2 * np.pi, n)\n",
    "\n",
    "# trajectories_corr = []\n",
    "# for a1 in tqdm.tqdm(ang1):\n",
    "#     for a2 in ang2:\n",
    "#         x0 = x0_0 + np.array([0., 0., 0., dV * np.sin(a1) * np.cos(a2), dV * np.sin(a1) * np.sin(a2), dV * np.cos(a1)])\n",
    "#         trajectories_corr.append(get_xref_from_x0(date, t_corr_plot, t2_corr, x0, dt_eval = 50, tolerance = 1e-10))"
   ]
  },
  {
   "cell_type": "markdown",
   "metadata": {},
   "source": [
    "   "
   ]
  },
  {
   "cell_type": "code",
   "execution_count": 8,
   "metadata": {
    "jupyter": {
     "source_hidden": true
    },
    "tags": []
   },
   "outputs": [],
   "source": [
    "in_params_err = []\n",
    "for j in range(N_err):\n",
    "    in_params_err.append(calc_fly_in(trajectories_err[j], jd0, t1 + t_sep, t2_corr, ftol = 200, maxit = 15000, r_influence = r_influence, explicit = False))\n",
    "in_params_err = np.array(in_params_err, dtype = object).T\n",
    "\n",
    "# in_params_corr = []\n",
    "# for j in range(N_corr):\n",
    "#     in_params_corr.append(calc_fly_in(trajectories_corr[j], jd0, t_corr_plot, t2_corr, ftol = 5000, maxit = 15000, r_influence = r_influence, explicit = False))\n",
    "# in_params_corr = np.array(in_params_corr, dtype = object).T"
   ]
  },
  {
   "cell_type": "code",
   "execution_count": 9,
   "metadata": {
    "jupyter": {
     "source_hidden": true
    },
    "tags": []
   },
   "outputs": [],
   "source": [
    "buf = np.zeros((6, N_err))\n",
    "time_cov = t1 + 10 * 60 * 60\n",
    "for i in range(N_err):\n",
    "    buf[:, i] = trajectories_err[i](time_cov)\n",
    "    \n",
    "buf2 = np.cov(buf) # real covariance matrix"
   ]
  },
  {
   "cell_type": "markdown",
   "metadata": {},
   "source": [
    "### Plot it!"
   ]
  },
  {
   "cell_type": "code",
   "execution_count": 10,
   "metadata": {
    "jupyter": {
     "source_hidden": true
    },
    "tags": []
   },
   "outputs": [
    {
     "name": "stdout",
     "output_type": "stream",
     "text": [
      "Current periapsis height: 10000 km\n",
      "Inv error K1: 8.230384475495661e-08\n",
      "Inv error K2: 8.088450884411905e-09\n",
      "Inv error A: 2.220446049250313e-16\n"
     ]
    }
   ],
   "source": [
    "import Bplane\n",
    "importlib.reload(Bplane) # in-development need\n",
    "\n",
    "def MoonOrientation(fi, theta, psi):\n",
    "    \"\"\"\n",
    "    x_inECI = M @ x_inLunarPrincipalAxes\n",
    "    \n",
    "    Input:\n",
    "    fi, theta, psi - Lunar libration angles in radians\n",
    "    (see Folkner et al. - Planetary and Lunar Ephemerides DE430 and DE431, page 9)\n",
    "    \n",
    "    Returns:\n",
    "    M - np.ndarray, shape (3, 3), float\n",
    "    \"\"\"\n",
    "    M1 = np.array([[np.cos(fi), -np.sin(fi), 0], [np.sin(fi), np.cos(fi), 0], [0, 0, 1.]])\n",
    "    M2 = np.array([[1., 0, 0], [0, np.cos(theta), -np.sin(theta)], [0, np.sin(theta), np.cos(theta)]])\n",
    "    M3 = np.array([[np.cos(psi), -np.sin(psi), 0], [np.sin(psi), np.cos(psi), 0], [0, 0, 1.]])\n",
    "    \n",
    "    return M1 @ M2 @ M3\n",
    "\n",
    "\n",
    "Bp = Bplane.Bplane(rL, VL, V_rel)\n",
    "x_pp, y_pp = Bp.get_piercing_point(r_rel, V_rel)\n",
    "B = np.sqrt(x_pp**2 + y_pp**2)\n",
    "\n",
    "hp = Bp.get_rp(x_pp, y_pp, constants.muMoo, np.linalg.norm(V_rel), r_influence) - constants.RL / 1e3\n",
    "print(f\"Current periapsis height: {hp:0.0f} km\")\n",
    "\n",
    "d2r = np.pi / 180\n",
    "M = MoonOrientation(-3.567318  * d2r, 22.822766  * d2r, 338.777833 * d2r)\n",
    "wL = M @ np.array([0, 0, 1.])\n",
    "wL = Bp.get_matrix().T @ wL\n",
    "\n",
    "wL2plot = wL[:2]\n",
    "wL2plot /= np.linalg.norm(wL2plot)\n",
    "\n",
    "p0 = 1e2\n",
    "V0 = 1e-3\n",
    "\n",
    "TM = Bplane.TransitionMatrix(x_ref, t1, in_time, p0, V0, constants.muEar)\n",
    "\n",
    "K1 = np.zeros((6, 6))\n",
    "K1[0, 0] = (148)**2 # km^2\n",
    "K1[1, 1] = (198)**2\n",
    "K1[2, 2] = (270)**2\n",
    "\n",
    "K1[3, 3] = (71e-3)**2 # (km/s)^2\n",
    "K1[4, 4] = (86e-3)**2\n",
    "K1[5, 5] = (96e-3)**2\n",
    "\n",
    "# a_err1, b_err1, v_err1 = Bplane.ScatteringEllipse(K1, TM, Bp.get_matrix(),\n",
    "#                                                   t1 + t_sep, in_time, p0, V0)\n",
    "\n",
    "a_err1, b_err1, v_err1 = Bplane.ScatteringEllipse(buf2, TM, Bp.get_matrix(),\n",
    "                                                  time_cov, in_time, p0, V0)\n",
    "a_err1 *= p0\n",
    "b_err1 *= p0\n",
    "\n",
    "\n",
    "a_corr1, b_corr1, v_corr1 = Bplane.InfluenceEllipse(TM, Bp.get_matrix(), dV / V0, t_corr_plot, in_time)\n",
    "a_corr1 *= p0\n",
    "b_corr1 *= p0"
   ]
  },
  {
   "cell_type": "code",
   "execution_count": 11,
   "metadata": {
    "jupyter": {
     "source_hidden": true
    },
    "tags": []
   },
   "outputs": [
    {
     "data": {
      "application/vnd.jupyter.widget-view+json": {
       "model_id": "46fd795e637c431db5f9b6894953fdc6",
       "version_major": 2,
       "version_minor": 0
      },
      "text/plain": [
       "Canvas(toolbar=Toolbar(toolitems=[('Home', 'Reset original view', 'home', 'home'), ('Back', 'Back to previous …"
      ]
     },
     "metadata": {},
     "output_type": "display_data"
    },
    {
     "name": "stderr",
     "output_type": "stream",
     "text": [
      "C:\\Users\\glebp\\OneDrive\\Рабочий стол\\Учеба\\НИР\\Code\\Bplane.py:261: RuntimeWarning: The hp provided had already existed. It was recalculated.\n",
      "  warnings.warn(\"The hp provided had already existed. It was recalculated.\", RuntimeWarning)\n"
     ]
    }
   ],
   "source": [
    "%matplotlib widget\n",
    "importlib.reload(Bplane) # in-development need\n",
    "\n",
    "Bplot2 = Bplane.BplanePlotter(units_in = \"km\", units_out = \"km\")\n",
    "\n",
    "Bplot2.set_size(x_pp, y_pp, 10000, 20000)\n",
    "\n",
    "Bplot2.add_point(x_pp, y_pp, \"piercing-point\")\n",
    "\n",
    "Bplot2.add_line(0, 0, *(wL2plot * B * 1.05), \"Lunar pole\", color = \"green\")\n",
    "\n",
    "Bplot2.add_ellipse(x_pp, y_pp, a_err1, b_err1, v_err1 / np.pi * 180,\n",
    "                   f\"Err({(time_cov - t1) / 3600 :0.1f}h)\", color = (1, 0, 0, 1))\n",
    "# Bplot2.add_ellipse(x_pp, y_pp, a_corr1, b_corr1, v_corr1 / np.pi * 180,\n",
    "#                    f\"Corr({(t_corr_plot - t1)/ 3600 :0.1f}h, {dV*1e3 :0.1f}m/s)\", color = (0, 0, 1, 1))\n",
    "\n",
    "Bplot2.add_hp(hp , constants.RL / 1e3, constants.muMoo, np.linalg.norm(V_rel), r_influence, color = \"purple\")\n",
    "Bplot2.add_hp(10000, constants.RL / 1e3, constants.muMoo, np.linalg.norm(V_rel), r_influence, color = \"orange\")\n",
    "\n",
    "for i in range(N_err):\n",
    "    x_ppi, y_ppi = Bp.get_piercing_point(in_params_err[1, i], in_params_err[2, i])\n",
    "    Bplot2.add_point(x_ppi, y_ppi, f\"pp_err{i}\")\n",
    "    \n",
    "# for i in range(N_corr):\n",
    "#     x_ppi, y_ppi = Bp.get_piercing_point(in_params_corr[1, i], in_params_corr[2, i])\n",
    "#     Bplot2.add_point(x_ppi, y_ppi, f\"pp_corr{i}\")\n",
    "\n",
    "\n",
    "Bplot2.plot()"
   ]
  },
  {
   "cell_type": "markdown",
   "metadata": {},
   "source": [
    "## First correction\n",
    "### Calculate the corrections"
   ]
  },
  {
   "cell_type": "code",
   "execution_count": 12,
   "metadata": {
    "jupyter": {
     "source_hidden": true
    },
    "tags": []
   },
   "outputs": [
    {
     "name": "stderr",
     "output_type": "stream",
     "text": [
      "100%|██████████████████████████████████████████████████████████████████████████████| 1000/1000 [04:03<00:00,  4.11it/s]\n"
     ]
    }
   ],
   "source": [
    "dt_1corr = 10 * 60 * 60\n",
    "t_1corr = t1 + dt_1corr\n",
    "\n",
    "first_corr = np.zeros((3, N_err))\n",
    "for i in tqdm.tqdm(range(N_err)):\n",
    "    # using TM instead of TM_buf is much faster yet in increases error in x_pp and y_pp up to 40km\n",
    "    TM_buf = Bplane.TransitionMatrix(trajectories_err[i], t_1corr, t2_corr, p0, V0, constants.muEar)\n",
    "    \n",
    "    x_pp_buf, y_pp_buf = Bp.get_piercing_point(in_params_err[1, i], in_params_err[2, i])\n",
    "    dxi = x_pp - x_pp_buf\n",
    "    deta = y_pp - y_pp_buf\n",
    "\n",
    "    first_corr[:, i] = Bplane.get_correction(TM_buf, Bp.get_matrix(), t_1corr, in_time, dxi, deta, p0, V0) # in_time (related to the x_ref)!!"
   ]
  },
  {
   "cell_type": "code",
   "execution_count": 13,
   "metadata": {
    "jupyter": {
     "source_hidden": true
    },
    "tags": []
   },
   "outputs": [
    {
     "data": {
      "image/png": "[encoded data removed]",
      "text/plain": [
       "<Figure size 720x720 with 1 Axes>"
      ]
     },
     "metadata": {
      "needs_background": "light"
     },
     "output_type": "display_data"
    }
   ],
   "source": [
    "%matplotlib inline\n",
    "plt.figure(figsize=(10,10))\n",
    "plt.hist(np.linalg.norm(first_corr, axis = 0) * 1e3, bins = 20)\n",
    "plt.title(\"Величина первой коррекции\")\n",
    "plt.xlabel(\"м / с\")\n",
    "plt.show()"
   ]
  },
  {
   "cell_type": "markdown",
   "metadata": {},
   "source": [
    "### Apply correction (with a static error)  \n",
    "Every correction is assumed to has direction error +1 deg theta, -1 deg phi"
   ]
  },
  {
   "cell_type": "code",
   "execution_count": 14,
   "metadata": {
    "jupyter": {
     "source_hidden": true
    },
    "tags": []
   },
   "outputs": [],
   "source": [
    "def cart2spher(x, y, z):\n",
    "    \"\"\"\n",
    "    x = r sin(theta) cos(phi)\n",
    "    y = r sin(theta) sin(phi)\n",
    "    z = r cos(theta)\n",
    "    \"\"\"  \n",
    "    r = np.sqrt(x**2 + y**2 + z**2)\n",
    "    \n",
    "    theta = np.arccos(z / r)\n",
    "    phi = np.arctan2(y, x)\n",
    "    \n",
    "    return [r, theta, phi]\n",
    "\n",
    "def spher2cart(r, theta, phi):\n",
    "    x = r * np.sin(theta) * np.cos(phi)\n",
    "    y = r * np.sin(theta) * np.sin(phi)\n",
    "    z = r * np.cos(theta)\n",
    "    \n",
    "    return [x, y, z]"
   ]
  },
  {
   "cell_type": "code",
   "execution_count": 15,
   "metadata": {
    "jupyter": {
     "source_hidden": true
    },
    "tags": []
   },
   "outputs": [
    {
     "name": "stderr",
     "output_type": "stream",
     "text": [
      "100%|██████████████████████████████████████████████████████████████████████████████| 1000/1000 [02:39<00:00,  6.26it/s]\n"
     ]
    }
   ],
   "source": [
    "theta_err = 1 / 180 * np.pi\n",
    "phi_err = -1 / 180 * np.pi\n",
    "# theta_err = 0 / 180 * np.pi\n",
    "# phi_err = -0 / 180 * np.pi\n",
    "N_aft_1corr = N_err\n",
    "\n",
    "trajectories_aft_1corr = []\n",
    "for i in tqdm.tqdm(range(N_aft_1corr)):\n",
    "    corr = first_corr[:, i]\n",
    "    \n",
    "    buf = cart2spher(*corr)\n",
    "    buf[1] += theta_err\n",
    "    buf[2] += phi_err\n",
    "    corr = spher2cart(*buf)\n",
    "    \n",
    "    x0 = trajectories_err[i](t_1corr) + [0., 0., 0., *corr]\n",
    "    trajectories_aft_1corr.append(get_xref_from_x0(date, t_1corr, t2_corr, x0, dt_eval = 50, tolerance = 1e-10))\n",
    "    \n",
    "in_params__aft_1corr = []\n",
    "for j in range(N_aft_1corr):\n",
    "    in_params__aft_1corr.append(calc_fly_in(trajectories_aft_1corr[j], jd0, t_1corr, t2_corr, ftol = 200, maxit = 15000, r_influence = r_influence, explicit = False))\n",
    "in_params_aft_1corr = np.array(in_params__aft_1corr, dtype = object).T"
   ]
  },
  {
   "cell_type": "markdown",
   "metadata": {},
   "source": [
    "### Plot"
   ]
  },
  {
   "cell_type": "code",
   "execution_count": 16,
   "metadata": {
    "jupyter": {
     "source_hidden": true
    },
    "tags": []
   },
   "outputs": [
    {
     "data": {
      "application/vnd.jupyter.widget-view+json": {
       "model_id": "5fb80058ad834764bb90ee2a214d6cb3",
       "version_major": 2,
       "version_minor": 0
      },
      "text/plain": [
       "Canvas(toolbar=Toolbar(toolitems=[('Home', 'Reset original view', 'home', 'home'), ('Back', 'Back to previous …"
      ]
     },
     "metadata": {},
     "output_type": "display_data"
    }
   ],
   "source": [
    "%matplotlib widget\n",
    "import importlib\n",
    "importlib.reload(Bplane) # in-development need\n",
    "\n",
    "Bplot3 = Bplane.BplanePlotter(units_in = \"km\", units_out = \"km\")\n",
    "\n",
    "Bplot3.set_size(x_pp, y_pp, 10000, 20000)\n",
    "\n",
    "Bplot3.add_point(x_pp, y_pp, \"piercing-point\", color = \"red\")\n",
    "\n",
    "Bplot3.add_line(0, 0, *(wL2plot * B * 1.05), \"Lunar pole\", color = \"green\")\n",
    "\n",
    "Bplot3.add_hp(hp , constants.RL / 1e3, constants.muMoo, np.linalg.norm(V_rel), r_influence, color = \"purple\")\n",
    "Bplot3.add_hp(10000, constants.RL / 1e3, constants.muMoo, np.linalg.norm(V_rel), r_influence, color = \"orange\")\n",
    "\n",
    "for i in range(N_aft_1corr):\n",
    "    x_ppi, y_ppi = Bp.get_piercing_point(in_params_aft_1corr[1, i], in_params_aft_1corr[2, i])\n",
    "    Bplot3.add_point(x_ppi, y_ppi, f\"pp_aft_1corr{i}\")\n",
    "\n",
    "Bplot3.plot()"
   ]
  },
  {
   "cell_type": "markdown",
   "metadata": {
    "tags": []
   },
   "source": [
    "## Second correction"
   ]
  },
  {
   "cell_type": "markdown",
   "metadata": {},
   "source": [
    "### Calculate the corrections"
   ]
  },
  {
   "cell_type": "code",
   "execution_count": 17,
   "metadata": {
    "jupyter": {
     "source_hidden": true
    },
    "tags": []
   },
   "outputs": [
    {
     "name": "stderr",
     "output_type": "stream",
     "text": [
      "100%|██████████████████████████████████████████████████████████████████████████████| 1000/1000 [00:50<00:00, 19.74it/s]\n"
     ]
    }
   ],
   "source": [
    "dt_2corr = (in_time - t1) - 10 * 60 * 60\n",
    "t_2corr = t1 + dt_2corr # time of the second correction, t2_corr is DIFFERENT\n",
    "\n",
    "second_corr = np.zeros((3, N_aft_1corr))\n",
    "for i in tqdm.tqdm(range(N_aft_1corr)):\n",
    "    # using TM instead of TM_buf is much faster yet it increases error in x_pp and y_pp up to 40km\n",
    "    TM_buf = Bplane.TransitionMatrix(trajectories_aft_1corr[i], t_2corr, t2_corr, p0, V0, constants.muEar)\n",
    "    \n",
    "    x_pp_buf, y_pp_buf = Bp.get_piercing_point(in_params_aft_1corr[1, i], in_params_aft_1corr[2, i])\n",
    "    dxi = x_pp - x_pp_buf\n",
    "    deta = y_pp - y_pp_buf\n",
    "\n",
    "    second_corr[:, i] = Bplane.get_correction(TM_buf, Bp.get_matrix(), t_2corr, in_time, dxi, deta, p0, V0) # in_time because related to the x_ref!!"
   ]
  },
  {
   "cell_type": "code",
   "execution_count": 18,
   "metadata": {
    "jupyter": {
     "source_hidden": true
    },
    "tags": []
   },
   "outputs": [
    {
     "data": {
      "image/png": "[encoded data removed]",
      "text/plain": [
       "<Figure size 720x720 with 1 Axes>"
      ]
     },
     "metadata": {
      "needs_background": "light"
     },
     "output_type": "display_data"
    }
   ],
   "source": [
    "%matplotlib inline\n",
    "plt.figure(figsize=(10,10))\n",
    "plt.hist(np.linalg.norm(second_corr, axis = 0) * 1e3, bins = 20)\n",
    "plt.title(\"Величина второй коррекции\")\n",
    "plt.xlabel(\"м / с\")\n",
    "plt.show()"
   ]
  },
  {
   "cell_type": "markdown",
   "metadata": {},
   "source": [
    "### Apply the corrections (with the static error)"
   ]
  },
  {
   "cell_type": "code",
   "execution_count": 19,
   "metadata": {
    "jupyter": {
     "source_hidden": true
    },
    "tags": []
   },
   "outputs": [
    {
     "name": "stderr",
     "output_type": "stream",
     "text": [
      "100%|██████████████████████████████████████████████████████████████████████████████| 1000/1000 [00:56<00:00, 17.66it/s]\n"
     ]
    }
   ],
   "source": [
    "N_aft_2corr = N_aft_1corr\n",
    "\n",
    "trajectories_aft_2corr = []\n",
    "for i in tqdm.tqdm(range(N_aft_2corr)):\n",
    "    corr = second_corr[:, i]\n",
    "    \n",
    "    buf = cart2spher(*corr)\n",
    "    buf[1] += theta_err\n",
    "    buf[2] += phi_err\n",
    "    corr = spher2cart(*buf)\n",
    "    \n",
    "    x0 = trajectories_aft_1corr[i](t_2corr) + [0., 0., 0., *corr]\n",
    "    trajectories_aft_2corr.append(get_xref_from_x0(date, t_2corr, t2_corr, x0, dt_eval = 50, tolerance = 1e-10))\n",
    "    \n",
    "in_params_aft_2corr = []\n",
    "for j in range(N_aft_2corr):\n",
    "    in_params_aft_2corr.append(calc_fly_in(trajectories_aft_2corr[j], jd0, t_2corr, t2_corr, ftol = 200, maxit = 15000, r_influence = r_influence, explicit = False))\n",
    "in_params_aft_2corr = np.array(in_params_aft_2corr, dtype = object).T"
   ]
  },
  {
   "cell_type": "markdown",
   "metadata": {},
   "source": [
    "### Plot!"
   ]
  },
  {
   "cell_type": "code",
   "execution_count": 20,
   "metadata": {
    "jupyter": {
     "source_hidden": true
    },
    "tags": []
   },
   "outputs": [
    {
     "data": {
      "application/vnd.jupyter.widget-view+json": {
       "model_id": "d33a27433350478ab8f7ee6aaccaab12",
       "version_major": 2,
       "version_minor": 0
      },
      "text/plain": [
       "Canvas(toolbar=Toolbar(toolitems=[('Home', 'Reset original view', 'home', 'home'), ('Back', 'Back to previous …"
      ]
     },
     "metadata": {},
     "output_type": "display_data"
    }
   ],
   "source": [
    "%matplotlib widget\n",
    "import importlib\n",
    "importlib.reload(Bplane) # in-development need\n",
    "\n",
    "Bplot4 = Bplane.BplanePlotter(units_in = \"km\", units_out = \"km\")\n",
    "\n",
    "Bplot4.set_size(x_pp, y_pp, 10000, 20000)\n",
    "\n",
    "Bplot4.add_point(x_pp, y_pp, \"piercing-point\", color = \"red\")\n",
    "\n",
    "Bplot4.add_line(0, 0, *(wL2plot * B * 1.05), \"Lunar pole\", color = \"green\")\n",
    "\n",
    "Bplot4.add_hp(hp , constants.RL / 1e3, constants.muMoo, np.linalg.norm(V_rel), r_influence, color = \"purple\")\n",
    "Bplot4.add_hp(10000, constants.RL / 1e3, constants.muMoo, np.linalg.norm(V_rel), r_influence, color = \"orange\")\n",
    "\n",
    "B_buf = []\n",
    "for i in range(N_aft_2corr):\n",
    "    x_ppi, y_ppi = Bp.get_piercing_point(in_params_aft_2corr[1, i], in_params_aft_2corr[2, i])\n",
    "    Bplot4.add_point(x_ppi, y_ppi, f\"pp_aft_1corr{i}\")\n",
    "    B_buf.append(np.sqrt(x_ppi**2 + y_ppi**2))\n",
    "\n",
    "Bplot4.plot()"
   ]
  },
  {
   "cell_type": "markdown",
   "metadata": {},
   "source": [
    "## Third correction (Vinf)"
   ]
  },
  {
   "cell_type": "markdown",
   "metadata": {},
   "source": [
    "### Calculation"
   ]
  },
  {
   "cell_type": "code",
   "execution_count": 21,
   "metadata": {
    "jupyter": {
     "source_hidden": true
    },
    "tags": []
   },
   "outputs": [
    {
     "name": "stderr",
     "output_type": "stream",
     "text": [
      "100%|██████████████████████████████████████████████████████████████████████████| 1000/1000 [00:00<00:00, 333119.21it/s]\n"
     ]
    }
   ],
   "source": [
    "t_3corr = in_time\n",
    "\n",
    "third_corr = np.zeros((3, N_aft_2corr))\n",
    "for i in tqdm.tqdm(range(N_aft_2corr)):\n",
    "    # actually dV = Vinf_reference - Vinf_current\n",
    "    third_corr[:, i] = Bplane.get_Vinf_correction(V_rel, in_params_aft_2corr[2, i])"
   ]
  },
  {
   "cell_type": "code",
   "execution_count": 22,
   "metadata": {
    "jupyter": {
     "source_hidden": true
    },
    "tags": []
   },
   "outputs": [
    {
     "data": {
      "image/png": "[encoded data removed]",
      "text/plain": [
       "<Figure size 720x720 with 1 Axes>"
      ]
     },
     "metadata": {
      "needs_background": "light"
     },
     "output_type": "display_data"
    }
   ],
   "source": [
    "%matplotlib inline\n",
    "plt.figure(figsize=(10,10))\n",
    "plt.hist(np.linalg.norm(third_corr, axis = 0) * 1e3, bins = 20)\n",
    "plt.title(\"Величина третьей коррекции\")\n",
    "plt.xlabel(\"м / с\")\n",
    "plt.show()"
   ]
  },
  {
   "cell_type": "markdown",
   "metadata": {},
   "source": [
    "### Apply the correction"
   ]
  },
  {
   "cell_type": "code",
   "execution_count": 23,
   "metadata": {
    "jupyter": {
     "source_hidden": true
    },
    "tags": []
   },
   "outputs": [
    {
     "name": "stderr",
     "output_type": "stream",
     "text": [
      "100%|██████████████████████████████████████████████████████████████████████████████| 1000/1000 [00:33<00:00, 30.06it/s]\n"
     ]
    }
   ],
   "source": [
    "N_aft_3corr = N_aft_2corr\n",
    "\n",
    "trajectories_aft_3corr = []\n",
    "for i in tqdm.tqdm(range(N_aft_3corr)):\n",
    "    corr = third_corr[:, i]\n",
    "    \n",
    "    x0 = trajectories_aft_2corr[i](t_3corr) + [0., 0., 0., *corr]\n",
    "    trajectories_aft_3corr.append(get_xref_from_x0(date, t_3corr, t2_corr, x0, dt_eval = 50, tolerance = 1e-10))\n",
    "    \n",
    "in_params_aft_3corr = []\n",
    "for j in range(N_aft_3corr):\n",
    "    in_params_aft_3corr.append(calc_fly_in(trajectories_aft_3corr[j], jd0, t_3corr, in_time, ftol = 500, maxit = 15000, r_influence = r_influence, explicit = False, already_boundary = True))\n",
    "in_params_aft_3corr = np.array(in_params_aft_3corr, dtype = object).T"
   ]
  },
  {
   "cell_type": "markdown",
   "metadata": {},
   "source": [
    "## Breaking impulses"
   ]
  },
  {
   "cell_type": "code",
   "execution_count": 24,
   "metadata": {
    "jupyter": {
     "source_hidden": true
    },
    "tags": []
   },
   "outputs": [],
   "source": [
    "final_trajs = trajectories_aft_3corr\n",
    "in_params_final = in_params_aft_3corr\n",
    "N_final = len(final_trajs)"
   ]
  },
  {
   "cell_type": "code",
   "execution_count": 25,
   "metadata": {
    "jupyter": {
     "source_hidden": true
    },
    "tags": []
   },
   "outputs": [],
   "source": [
    "hp_buf = []\n",
    "\n",
    "for i in range(N_final):\n",
    "    x_ppi, y_ppi = Bp.get_piercing_point(in_params_final[1, i], in_params_final[2, i])\n",
    "    hp_buf.append(Bp.get_rp(x_ppi, y_ppi, constants.muMoo, np.linalg.norm(in_params_final[2, i]), r_influence) - constants.RL / 1e3)"
   ]
  },
  {
   "cell_type": "code",
   "execution_count": 26,
   "metadata": {
    "jupyter": {
     "source_hidden": true
    },
    "tags": []
   },
   "outputs": [
    {
     "data": {
      "image/png": "[encoded data removed]",
      "text/plain": [
       "<Figure size 720x720 with 1 Axes>"
      ]
     },
     "metadata": {
      "needs_background": "light"
     },
     "output_type": "display_data"
    }
   ],
   "source": [
    "%matplotlib inline\n",
    "plt.figure(figsize=(10,10))\n",
    "plt.hist(hp_buf, bins = 20)\n",
    "plt.title(\"Высота перицентра из картинной плоскости\")\n",
    "plt.xlabel(\"км\")\n",
    "plt.show()"
   ]
  },
  {
   "cell_type": "code",
   "execution_count": 27,
   "metadata": {
    "jupyter": {
     "source_hidden": true
    },
    "tags": []
   },
   "outputs": [],
   "source": [
    "def calc_rp(r_inf, V_inf, mu):\n",
    "    C = np.cross(r_inf, V_inf)\n",
    "    c = np.linalg.norm(C)\n",
    "    \n",
    "    h = np.linalg.norm(V_inf)**2 - 2 * mu / np.linalg.norm(r_inf)\n",
    "    \n",
    "    e = np.sqrt(1 + h * c**2 / mu**2)\n",
    "    p = c**2 / mu\n",
    "    \n",
    "    return p / (1 + e)\n",
    "\n",
    "def calc_break_imp(r_inf, V_inf, rp, mu):\n",
    "    Vp = np.sqrt(V_inf**2 + 2 * mu * (1./rp - 1./r_inf))\n",
    "    Vcirc = np.sqrt(mu / rp)\n",
    "    return Vcirc - Vp"
   ]
  },
  {
   "cell_type": "code",
   "execution_count": 28,
   "metadata": {
    "jupyter": {
     "source_hidden": true
    },
    "tags": []
   },
   "outputs": [],
   "source": [
    "mu = constants.muMoo\n",
    "R_planet = constants.RL / 1e3\n",
    "\n",
    "M = MoonOrientation(-3.567318  * d2r, 22.822766  * d2r, 338.777833 * d2r)\n",
    "wL = M @ np.array([0, 0, 1.])\n",
    "wL /= np.linalg.norm(wL)\n",
    "\n",
    "angle_final = np.zeros(N_final)\n",
    "final_hps = np.zeros(N_final)\n",
    "break_imps = np.zeros(N_final)\n",
    "for i in range(N_final):\n",
    "    r_rel_buf = in_params_final[1, i]\n",
    "    V_rel_buf = in_params_final[2, i]\n",
    "    \n",
    "    C_buf = np.cross(r_rel_buf, V_rel_buf)\n",
    "    C_buf /= np.linalg.norm(C_buf)\n",
    "    \n",
    "    angle_final[i] = np.arccos(np.dot(C_buf, wL)) / np.pi * 180\n",
    "    \n",
    "    r_inf = np.linalg.norm(r_rel_buf)\n",
    "    V_inf = np.linalg.norm(V_rel_buf)\n",
    "    \n",
    "    rp_buf = calc_rp(r_rel_buf, V_rel_buf, mu)\n",
    "    final_hps[i] = rp_buf - R_planet\n",
    "    \n",
    "    break_imps[i] = calc_break_imp(r_inf, V_inf, rp_buf, mu)"
   ]
  },
  {
   "cell_type": "code",
   "execution_count": 29,
   "metadata": {
    "jupyter": {
     "source_hidden": true
    },
    "tags": []
   },
   "outputs": [
    {
     "data": {
      "image/png": "[encoded data removed]",
      "text/plain": [
       "<Figure size 720x720 with 1 Axes>"
      ]
     },
     "metadata": {
      "needs_background": "light"
     },
     "output_type": "display_data"
    }
   ],
   "source": [
    "%matplotlib inline\n",
    "plt.figure(figsize=(10,10))\n",
    "plt.hist(np.abs(break_imps) * 1e3, bins = 20)\n",
    "plt.title(\"Тормозные импульсы\")\n",
    "plt.xlabel(\"m / s\")\n",
    "plt.show()"
   ]
  },
  {
   "cell_type": "code",
   "execution_count": 30,
   "metadata": {
    "jupyter": {
     "source_hidden": true
    },
    "tags": []
   },
   "outputs": [
    {
     "data": {
      "image/png": "[encoded data removed]",
      "text/plain": [
       "<Figure size 720x720 with 1 Axes>"
      ]
     },
     "metadata": {
      "needs_background": "light"
     },
     "output_type": "display_data"
    }
   ],
   "source": [
    "%matplotlib inline\n",
    "plt.figure(figsize=(10,10))\n",
    "plt.hist(angle_final)\n",
    "plt.title(\"Наклонение орбиты КА относительно экватора Луны\")\n",
    "plt.xlabel(\"градусы\")\n",
    "plt.show()"
   ]
  },
  {
   "cell_type": "code",
   "execution_count": 31,
   "metadata": {
    "jupyter": {
     "source_hidden": true
    },
    "tags": []
   },
   "outputs": [
    {
     "data": {
      "image/png": "[encoded data removed]",
      "text/plain": [
       "<Figure size 720x720 with 1 Axes>"
      ]
     },
     "metadata": {
      "needs_background": "light"
     },
     "output_type": "display_data"
    }
   ],
   "source": [
    "%matplotlib inline\n",
    "plt.figure(figsize=(10,10))\n",
    "plt.hist(final_hps)\n",
    "# plt.title(\"Итоговая высота перицентра\")\n",
    "plt.title(\"Высота перицентра после 3 коррекции\")\n",
    "plt.xlabel(\"км\")\n",
    "plt.show()"
   ]
  },
  {
   "cell_type": "code",
   "execution_count": 32,
   "metadata": {
    "jupyter": {
     "source_hidden": true
    },
    "tags": []
   },
   "outputs": [],
   "source": [
    "mu = constants.muMoo\n",
    "R_planet = constants.RL / 1e3\n",
    "\n",
    "final_hps_aft_2corr = np.zeros(N_aft_1corr)\n",
    "break_imps_aft_2corr = np.zeros(N_aft_1corr)\n",
    "for i in range(N_aft_2corr):\n",
    "    r_rel_buf = in_params_aft_2corr[1, i]\n",
    "    V_rel_buf = in_params_aft_2corr[2, i]\n",
    "    \n",
    "    r_inf = np.linalg.norm(r_rel_buf)\n",
    "    V_inf = np.linalg.norm(V_rel_buf)\n",
    "    \n",
    "    rp_buf = calc_rp(r_rel_buf, V_rel_buf, mu)\n",
    "    final_hps_aft_2corr[i] = rp_buf - R_planet\n",
    "    \n",
    "    break_imps_aft_2corr[i] = calc_break_imp(r_inf, V_inf, rp_buf, mu)"
   ]
  },
  {
   "cell_type": "code",
   "execution_count": 33,
   "metadata": {
    "jupyter": {
     "source_hidden": true
    },
    "tags": []
   },
   "outputs": [
    {
     "data": {
      "image/png": "[encoded data removed]",
      "text/plain": [
       "<Figure size 720x720 with 1 Axes>"
      ]
     },
     "metadata": {
      "needs_background": "light"
     },
     "output_type": "display_data"
    }
   ],
   "source": [
    "%matplotlib inline\n",
    "plt.figure(figsize=(10,10))\n",
    "plt.hist(final_hps_aft_2corr, bins = 20)\n",
    "plt.title(\"Высота перицентра после 2 коррекции\")\n",
    "plt.xlabel(\"км\")\n",
    "plt.show()"
   ]
  },
  {
   "cell_type": "code",
   "execution_count": 34,
   "metadata": {
    "jupyter": {
     "source_hidden": true
    },
    "tags": []
   },
   "outputs": [],
   "source": [
    "mu = constants.muMoo\n",
    "R_planet = constants.RL / 1e3\n",
    "\n",
    "final_hps_aft_1corr = np.zeros(N_aft_1corr)\n",
    "break_imps_aft_1corr = np.zeros(N_aft_1corr)\n",
    "for i in range(N_aft_1corr):\n",
    "    r_rel_buf = in_params_aft_1corr[1, i]\n",
    "    V_rel_buf = in_params_aft_1corr[2, i]\n",
    "    \n",
    "    r_inf = np.linalg.norm(r_rel_buf)\n",
    "    V_inf = np.linalg.norm(V_rel_buf)\n",
    "    \n",
    "    rp_buf = calc_rp(r_rel_buf, V_rel_buf, mu)\n",
    "    final_hps_aft_1corr[i] = rp_buf - R_planet\n",
    "    \n",
    "    break_imps_aft_1corr[i] = calc_break_imp(r_inf, V_inf, rp_buf, mu)"
   ]
  },
  {
   "cell_type": "code",
   "execution_count": 35,
   "metadata": {
    "jupyter": {
     "source_hidden": true
    },
    "tags": []
   },
   "outputs": [
    {
     "data": {
      "image/png": "[encoded data removed]",
      "text/plain": [
       "<Figure size 720x720 with 1 Axes>"
      ]
     },
     "metadata": {
      "needs_background": "light"
     },
     "output_type": "display_data"
    }
   ],
   "source": [
    "%matplotlib inline\n",
    "plt.figure(figsize=(10,10))\n",
    "plt.hist(final_hps_aft_1corr, bins = 20)\n",
    "plt.title(\"Высота перицентра после 1 коррекции\")\n",
    "plt.xlabel(\"км\")\n",
    "plt.show()"
   ]
  },
  {
   "cell_type": "code",
   "execution_count": 36,
   "metadata": {
    "jupyter": {
     "source_hidden": true
    },
    "tags": []
   },
   "outputs": [],
   "source": [
    "mu = constants.muMoo\n",
    "R_planet = constants.RL / 1e3\n",
    "\n",
    "final_hps_err = np.zeros(N_err)\n",
    "break_imps_err = np.zeros(N_err)\n",
    "for i in range(N_err):\n",
    "    r_rel_buf = in_params_err[1, i]\n",
    "    V_rel_buf = in_params_err[2, i]\n",
    "    \n",
    "    r_inf = np.linalg.norm(r_rel_buf)\n",
    "    V_inf = np.linalg.norm(V_rel_buf)\n",
    "    \n",
    "    rp_buf = calc_rp(r_rel_buf, V_rel_buf, mu)\n",
    "    final_hps_err[i] = rp_buf - R_planet\n",
    "    \n",
    "    break_imps_err[i] = calc_break_imp(r_inf, V_inf, rp_buf, mu)"
   ]
  },
  {
   "cell_type": "code",
   "execution_count": 37,
   "metadata": {
    "jupyter": {
     "source_hidden": true
    },
    "tags": []
   },
   "outputs": [
    {
     "data": {
      "image/png": "[encoded data removed]",
      "text/plain": [
       "<Figure size 720x720 with 1 Axes>"
      ]
     },
     "metadata": {
      "needs_background": "light"
     },
     "output_type": "display_data"
    }
   ],
   "source": [
    "%matplotlib inline\n",
    "plt.figure(figsize=(10,10))\n",
    "plt.hist(final_hps_err, bins = 20)\n",
    "plt.title(\"Высота перицентра без коррекций\")\n",
    "plt.xlabel(\"км\")\n",
    "plt.show()"
   ]
  },
  {
   "cell_type": "code",
   "execution_count": 38,
   "metadata": {
    "jupyter": {
     "source_hidden": true
    },
    "tags": []
   },
   "outputs": [],
   "source": [
    "# Testing\n",
    "\n",
    "# ind = np.argmax([np.linalg.norm(in_params_aft_3corr[2, i] - V_rel) for i in range(N_aft_2corr)])\n",
    "\n",
    "# B = np.sqrt(x_pp**2 + y_pp**2)\n",
    "# rp = 10010 + constants.RL / 1e3\n",
    "# mu = constants.muMoo\n",
    "# ri_ref = np.linalg.norm(r_rel)\n",
    "# Vi_ref = np.linalg.norm(V_rel)\n",
    "# b = 2 * mu / Vi_ref**2\n",
    "\n",
    "# ri = np.linalg.norm(in_params_aft_3corr[1, ind])\n",
    "# Vi = np.linalg.norm(in_params_aft_3corr[2, ind])\n",
    "# x_ppi, y_ppi = Bp.get_piercing_point(in_params_aft_3corr[1, ind], in_params_aft_3corr[2, ind])\n",
    "# Bi = np.sqrt(x_ppi**2 + y_ppi**2)\n",
    "# bi = 2 * mu / Vi**2\n",
    "\n",
    "# np.dot(in_params_aft_3corr[2, ind], V_rel) / (Vi * Vi_ref)"
   ]
  }
 ],
 "metadata": {
  "kernelspec": {
   "display_name": "Python 3.8.6",
   "language": "python",
   "name": "python3.8.6"
  },
  "language_info": {
   "codemirror_mode": {
    "name": "ipython",
    "version": 3
   },
   "file_extension": ".py",
   "mimetype": "text/x-python",
   "name": "python",
   "nbconvert_exporter": "python",
   "pygments_lexer": "ipython3",
   "version": "3.8.6"
  }
 },
 "nbformat": 4,
 "nbformat_minor": 4
}
