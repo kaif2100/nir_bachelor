{
 "cells": [
  {
   "cell_type": "code",
   "execution_count": 446,
   "metadata": {},
   "outputs": [],
   "source": [
    "import numpy as np\n",
    "from scipy.integrate import solve_ivp\n",
    "import calcephpy as efm\n",
    "import julian\n",
    "import datetime\n",
    "import matplotlib.pyplot as plt\n",
    "\n",
    "from conversions import Kepler2Cartesian\n",
    "from Kepler import KeplerSolver\n",
    "import constants"
   ]
  },
  {
   "cell_type": "code",
   "execution_count": 447,
   "metadata": {},
   "outputs": [],
   "source": [
    "def f1(t, x):\n",
    "    r = np.linalg.norm(x[:3])\n",
    "    r3 = r**3\n",
    "    yr = constants.muE / r3\n",
    "    result = np.empty(6)\n",
    "    result[0] = x[3]\n",
    "    result[1] = x[4]\n",
    "    result[2] = x[5]\n",
    "    result[3] = -x[0]*yr\n",
    "    result[4] = -x[1]*yr\n",
    "    result[5] = -x[2]*yr\n",
    "    return result\n",
    "\n",
    "def precession_matrix(jd):\n",
    "    \"\"\"\n",
    "    This function calculates precession matrix for conversions between reference systems\n",
    "    x_old(in ICRF(J2000)) = P @ x_new(in ICRF(jd))\n",
    "    \n",
    "    Input:\n",
    "    jd - julian date\n",
    "    \n",
    "    Output:\n",
    "    P - np.array 3x3 (float)\n",
    "    \"\"\"\n",
    "    t = (jd - 2451545.0)/36525.0\n",
    "    t2 = t**2\n",
    "    t3 = t**3\n",
    "    sec2rad = np.pi / 180 / 3600\n",
    "    \n",
    "    z = -(2306.2181 * t + 1.09468 * t2 + 0.018203 * t3) * sec2rad\n",
    "    theta = (2004.3109 * t + 0.42665 * t2 - 0.041833 * t3) * sec2rad\n",
    "    dzeta = -(2306.2181 * t + 0.30188 * t2 + 0.017998 * t3) * sec2rad\n",
    "    \n",
    "    M1 = np.array([[np.cos(z), -np.sin(z), 0], [np.sin(z), np.cos(z), 0], [0, 0, 1.]])\n",
    "    M2 = np.array([[np.cos(theta), 0, np.sin(theta)], [0, 1., 0], [-np.sin(theta), 0, np.cos(theta)]])\n",
    "    M3 = np.array([[np.cos(dzeta), -np.sin(dzeta), 0], [np.sin(dzeta), np.cos(dzeta), 0], [0, 0, 1.]])\n",
    "    \n",
    "    return M1 @ M2 @ M3"
   ]
  },
  {
   "cell_type": "code",
   "execution_count": 448,
   "metadata": {},
   "outputs": [],
   "source": [
    "date = '01.10.2021'\n",
    "date = datetime.datetime(int(date[-4:]), int(date[3:5]), int(date[:2]))\n",
    "jd0 = julian.to_jd(date) # midnight!\n",
    "\n",
    "integration_time = 150 * 60 * 60\n",
    "t1 = 12 * 60 * 60 # Noon\n",
    "t2 = t1 + integration_time\n",
    "\n",
    "#to plot Lunar trajectory\n",
    "stepL = 100\n",
    "djd = np.arange(t1, t2 + stepL, stepL) / (24*60*60)\n",
    "jd = jd0 + djd // 1\n",
    "djd = djd % 1\n",
    "\n",
    "ef = efm.CalcephBin.open(\"epm2017.bsp\")\n",
    "PV = ef.compute_unit(jd, djd, efm.NaifId.MOON, efm.NaifId.EARTH, \n",
    "                    efm.Constants.UNIT_KM + efm.Constants.UNIT_SEC  + efm.Constants.USE_NAIFID)\n",
    "PV = np.array(PV) # km and seconds!\n",
    "\n",
    "P = precession_matrix(jd0).T # must take into account, that epehemerides return PV in ECI(J2000), so I want convert it into the ECI(current_date)\n",
    "rL = P @ PV[:3, :] * 1000 # meters\n",
    "VL = P @ PV[3:, :] * 1000\n",
    "ef.close()"
   ]
  },
  {
   "cell_type": "code",
   "execution_count": 449,
   "metadata": {},
   "outputs": [],
   "source": [
    "i = 51.8 / 180 * np.pi\n",
    "W = 21.5 / 180 * np.pi # to be set\n",
    "w = -12 / 180 * np.pi # to be set\n",
    "\n",
    "hp = 200e3\n",
    "rp = constants.RE + hp # before impulse\n",
    "Vp0 = np.sqrt(constants.muE / rp)\n",
    "pump = 3130\n",
    "Vp1 = Vp0 + pump # after impulse\n",
    "a = 1 / (2 / rp - Vp1**2 / constants.muE)\n",
    "e = 1 - rp / a\n",
    "p = a * (1 - e**2)\n",
    "\n",
    "v1, E1 = KeplerSolver(a, e, t1, epoch = t1)\n",
    "v2, E2 = KeplerSolver(a, e, t2, epoch = t1)\n",
    "v = np.linspace(v1, v2, 1000)\n",
    "x = np.zeros((6, *v.shape))\n",
    "for j in range(len(v)):\n",
    "    x[:, j] = Kepler2Cartesian(i, W, w, e, p, v[j])    "
   ]
  },
  {
   "cell_type": "code",
   "execution_count": 450,
   "metadata": {},
   "outputs": [],
   "source": [
    "dt_eval = stepL\n",
    "t_eval = np.arange(t1, t2 + dt_eval, dt_eval)\n",
    "\n",
    "f0 = Kepler2Cartesian(i, W, w, e, p, v1)\n",
    "tolerance = 1e-10\n",
    "\n",
    "res = solve_ivp(f1, (t1, t2), f0, t_eval = t_eval, rtol = tolerance, atol = tolerance).y\n",
    "\n",
    "R = res[0:3]\n",
    "V = res[3:]\n",
    "\n",
    "d = np.linalg.norm(rL - R, axis = 0)\n",
    "re = 66194e3"
   ]
  },
  {
   "cell_type": "code",
   "execution_count": 451,
   "metadata": {},
   "outputs": [
    {
     "name": "stdout",
     "output_type": "stream",
     "text": [
      "True\n",
      "Fly-time: 109.2 hours\n"
     ]
    }
   ],
   "source": [
    "flag = np.any(d < re)\n",
    "ind = None\n",
    "print(flag)\n",
    "if flag:\n",
    "    ind = np.where(d < re)[0][0]\n",
    "    print(f\"Fly-time: {(t_eval[ind] - t1) / 3600 :0.1f} hours\")"
   ]
  },
  {
   "cell_type": "code",
   "execution_count": 452,
   "metadata": {},
   "outputs": [
    {
     "data": {
      "application/vnd.jupyter.widget-view+json": {
       "model_id": "760b6b52861641deb09edad86a20aea5",
       "version_major": 2,
       "version_minor": 0
      },
      "text/plain": [
       "Canvas(toolbar=Toolbar(toolitems=[('Home', 'Reset original view', 'home', 'home'), ('Back', 'Back to previous …"
      ]
     },
     "metadata": {},
     "output_type": "display_data"
    }
   ],
   "source": [
    "%matplotlib widget\n",
    "fig = plt.figure()\n",
    "ax = fig.add_subplot(111, projection='3d')\n",
    "\n",
    "ax.plot(*rL, color = \"orange\")\n",
    "ax.plot(*rL[:, 0], 'o', color = \"blue\")\n",
    "ax.plot(*rL[:, -1], 'o', color = \"red\")\n",
    "\n",
    "ax.plot(*R[:3, :], color = \"green\")\n",
    "ax.plot(*R[:3, 0], 'o', color = \"blue\")\n",
    "ax.plot(*R[:3, -1], 'o', color = \"red\")\n",
    "\n",
    "if ind:\n",
    "    ax.plot(*rL[:, ind], 'o', color = \"green\")\n",
    "    ax.plot(*R[:3, ind], 'o', color = \"green\")\n",
    "pass"
   ]
  },
  {
   "cell_type": "code",
   "execution_count": 453,
   "metadata": {},
   "outputs": [
    {
     "data": {
      "text/plain": [
       "368519.32864205696"
      ]
     },
     "execution_count": 453,
     "metadata": {},
     "output_type": "execute_result"
    }
   ],
   "source": [
    "np.linalg.norm(rL[:, ind]) / 1e3"
   ]
  }
 ],
 "metadata": {
  "kernelspec": {
   "display_name": "Python 3.8.6",
   "language": "python",
   "name": "python3.8.6"
  },
  "language_info": {
   "codemirror_mode": {
    "name": "ipython",
    "version": 3
   },
   "file_extension": ".py",
   "mimetype": "text/x-python",
   "name": "python",
   "nbconvert_exporter": "python",
   "pygments_lexer": "ipython3",
   "version": "3.8.6"
  }
 },
 "nbformat": 4,
 "nbformat_minor": 4
}
